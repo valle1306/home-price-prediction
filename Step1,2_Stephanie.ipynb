{
 "cells": [
  {
   "attachments": {},
   "cell_type": "markdown",
   "id": "81e0fea2",
   "metadata": {},
   "source": [
    "# **Setup & Data Loading** "
   ]
  },
  {
   "attachments": {},
   "cell_type": "markdown",
   "id": "14375f80",
   "metadata": {},
   "source": []
  },
  {
   "cell_type": "code",
   "execution_count": 2,
   "id": "f01c9610",
   "metadata": {},
   "outputs": [],
   "source": [
    "import warnings\n",
    "warnings.filterwarnings(\"ignore\")\n",
    "\n",
    "import os\n",
    "from glob import glob\n",
    "import numpy as np\n",
    "import pandas as pd\n",
    "\n",
    "import matplotlib.pyplot as plt\n",
    "import seaborn as sns"
   ]
  },
  {
   "cell_type": "code",
   "execution_count": 3,
   "id": "f33c802a",
   "metadata": {},
   "outputs": [],
   "source": [
    "pd.set_option(\"display.max_columns\", 200)\n",
    "pd.set_option(\"display.width\", 180)"
   ]
  },
  {
   "attachments": {},
   "cell_type": "markdown",
   "id": "5de5b531",
   "metadata": {},
   "source": [
    "### 1) Locate and load monthly CRMLS exports and adjust the folder"
   ]
  },
  {
   "cell_type": "code",
   "execution_count": 6,
   "id": "c488c1fe",
   "metadata": {},
   "outputs": [
    {
     "name": "stdout",
     "output_type": "stream",
     "text": [
      "✅ Found 7 monthly CRMLS files:\n",
      "   • CRMLSSold202502.csv\n",
      "   • CRMLSSold202503.csv\n",
      "   • CRMLSSold202504.csv\n",
      "   • CRMLSSold202505.csv\n",
      "   • CRMLSSold202506.csv\n",
      "   • CRMLSSold202507.csv\n",
      "   • CRMLSSold202508.csv\n"
     ]
    }
   ],
   "source": [
    "possible_dirs = [\"./data\", \".\", \"../data\"]\n",
    "csv_paths = []\n",
    "\n",
    "for directory in possible_dirs:\n",
    "    pattern = os.path.join(directory, \"CRMLSSold*.csv\")\n",
    "    csv_paths.extend(glob(pattern))\n",
    "    \n",
    "# Sort and ensure we found files\n",
    "csv_paths = sorted(set(csv_paths))\n",
    "assert len(csv_paths) > 0, \"No CRMLSSold*.csv files found --> check data path.\"\n",
    "\n",
    "print(f\"✅ Found {len(csv_paths)} monthly CRMLS files:\")\n",
    "for p in csv_paths:\n",
    "    print(\"   •\", os.path.basename(p))"
   ]
  },
  {
   "attachments": {},
   "cell_type": "markdown",
   "id": "b4940c3b",
   "metadata": {},
   "source": [
    "### 2) Read and merge all CSV files"
   ]
  },
  {
   "cell_type": "code",
   "execution_count": 7,
   "id": "002a0cba",
   "metadata": {},
   "outputs": [
    {
     "name": "stdout",
     "output_type": "stream",
     "text": [
      "Loaded 156,064 rows from 7 files.\n"
     ]
    }
   ],
   "source": [
    "dfs = []\n",
    "for p in csv_paths:\n",
    "    try:\n",
    "        df_i = pd.read_csv(p, low_memory=False)\n",
    "        df_i[\"__source_file\"] = os.path.basename(p)\n",
    "        dfs.append(df_i)\n",
    "    except Exception as e:\n",
    "        print(f\"Skipping {p}: {e}\")\n",
    "\n",
    "# Concatenate all months\n",
    "df_all_raw = pd.concat(dfs, ignore_index=True)\n",
    "print(f\"Loaded {len(df_all_raw):,} rows from {len(csv_paths)} files.\")"
   ]
  },
  {
   "attachments": {},
   "cell_type": "markdown",
   "id": "e5dbcdd3",
   "metadata": {},
   "source": []
  },
  {
   "cell_type": "code",
   "execution_count": 1,
   "id": "1514af67",
   "metadata": {},
   "outputs": [
    {
     "name": "stdout",
     "output_type": "stream",
     "text": [
      "Loaded 156,064 rows from 7 files.\n",
      "After SFR filter: 78,387 rows.\n"
     ]
    }
   ],
   "source": [
    "\n",
    "\n",
    "# 2) Read & concatenate (keep original column names)\n",
    "dfs = []\n",
    "for p in csv_paths:\n",
    "    try:\n",
    "        df_i = pd.read_csv(p, low_memory=False)\n",
    "        df_i[\"__source_file\"] = os.path.basename(p)\n",
    "        dfs.append(df_i)\n",
    "    except Exception as e:\n",
    "        print(f\"Skipping {p}: {e}\")\n",
    "\n",
    "df_all_raw = pd.concat(dfs, ignore_index=True)\n",
    "print(f\"Loaded {len(df_all_raw):,} rows from {len(csv_paths)} files.\")\n",
    "\n",
    "# 3) Parse dates if present\n",
    "for col in [\"CloseDate\", \"CloseDateTime\", \"COE\", \"COEDate\", \"CloseOfEscrowDate\"]:\n",
    "    if col in df_all_raw.columns:\n",
    "        df_all_raw[col] = pd.to_datetime(df_all_raw[col], errors=\"coerce\")\n",
    "\n",
    "# 4) Filter to Residential Single Family Residence, if columns exist\n",
    "df_all = df_all_raw.copy()\n",
    "if \"PropertyType\" in df_all.columns:\n",
    "    df_all = df_all[df_all[\"PropertyType\"].astype(str).str.strip().str.lower() == \"residential\"]\n",
    "if \"PropertySubType\" in df_all.columns:\n",
    "    df_all = df_all[df_all[\"PropertySubType\"].astype(str).str.strip().str.lower() == \"singlefamilyresidence\"]\n",
    "\n",
    "print(f\"After SFR filter: {len(df_all):,} rows.\")\n",
    "\n",
    "# 5) Ensure target is present\n",
    "assert \"ClosePrice\" in df_all.columns, \"Expected 'ClosePrice' not found in columns.\"\n"
   ]
  },
  {
   "attachments": {},
   "cell_type": "markdown",
   "id": "0c2d2ad9",
   "metadata": {},
   "source": []
  },
  {
   "attachments": {},
   "cell_type": "markdown",
   "id": "3842b3f0",
   "metadata": {},
   "source": []
  },
  {
   "cell_type": "code",
   "execution_count": null,
   "id": "7200a2a6",
   "metadata": {},
   "outputs": [],
   "source": []
  },
  {
   "attachments": {},
   "cell_type": "markdown",
   "id": "75d3756e",
   "metadata": {},
   "source": []
  },
  {
   "cell_type": "code",
   "execution_count": null,
   "id": "d817280a",
   "metadata": {},
   "outputs": [],
   "source": []
  },
  {
   "attachments": {},
   "cell_type": "markdown",
   "id": "514efc4c",
   "metadata": {},
   "source": []
  },
  {
   "cell_type": "code",
   "execution_count": null,
   "id": "1ccd1567",
   "metadata": {},
   "outputs": [],
   "source": []
  }
 ],
 "metadata": {
  "kernelspec": {
   "display_name": "dev",
   "language": "python",
   "name": "dev"
  },
  "language_info": {
   "codemirror_mode": {
    "name": "ipython",
    "version": 3
   },
   "file_extension": ".py",
   "mimetype": "text/x-python",
   "name": "python",
   "nbconvert_exporter": "python",
   "pygments_lexer": "ipython3",
   "version": "3.10.11"
  }
 },
 "nbformat": 4,
 "nbformat_minor": 5
}
