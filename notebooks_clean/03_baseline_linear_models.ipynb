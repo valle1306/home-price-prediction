{
 "cells": [
  {
   "cell_type": "markdown",
   "id": "9e545602",
   "metadata": {},
   "source": [
    "# 03 - Baseline Linear Models\n",
    "\n",
    "**Objective:** Train and evaluate baseline linear regression models\n",
    "\n",
    "**Models:**\n",
    "1. Linear Regression (OLS)\n",
    "2. Ridge Regression (L2 regularization)\n",
    "3. Lasso Regression (L1 regularization)\n",
    "4. Elastic Net (L1 + L2)\n",
    "\n",
    "**Input:** `data/X_train.csv`, `data/X_test.csv`, `data/y_train.csv`, `data/y_test.csv`"
   ]
  },
  {
   "cell_type": "code",
   "execution_count": 10,
   "id": "f477fbaa",
   "metadata": {},
   "outputs": [
    {
     "name": "stdout",
     "output_type": "stream",
     "text": [
      "Notebook run: 2025-10-24T09:49:05.542930\n"
     ]
    }
   ],
   "source": [
    "import warnings\n",
    "warnings.filterwarnings('ignore')\n",
    "\n",
    "import numpy as np\n",
    "import pandas as pd\n",
    "from pathlib import Path\n",
    "import json\n",
    "import joblib\n",
    "from datetime import datetime\n",
    "\n",
    "from sklearn.linear_model import LinearRegression, Ridge, Lasso, ElasticNet\n",
    "from sklearn.preprocessing import StandardScaler\n",
    "from sklearn.metrics import r2_score, mean_absolute_error, mean_squared_error\n",
    "from sklearn.model_selection import RandomizedSearchCV\n",
    "from scipy.stats import loguniform\n",
    "\n",
    "print(f\"Notebook run: {datetime.now().isoformat()}\")"
   ]
  },
  {
   "cell_type": "code",
   "execution_count": null,
   "id": "010182ff",
   "metadata": {},
   "outputs": [
    {
     "name": "stdout",
     "output_type": "stream",
     "text": [
      "Training: (150311, 1022), Test: (22759, 1022)\n"
     ]
    }
   ],
   "source": [
    "# Load processed data (works on Windows and Linux/Amarel)\n",
    "ROOT = Path.cwd()\n",
    "DATA_DIR = ROOT / 'data'\n",
    "MODELS_DIR = ROOT / 'models'\n",
    "MODELS_DIR.mkdir(exist_ok=True)\n",
    "\n",
    "X_train = pd.read_csv(DATA_DIR / 'X_train.csv')\n",
    "X_test = pd.read_csv(DATA_DIR / 'X_test.csv')\n",
    "y_train = pd.read_csv(DATA_DIR / 'y_train.csv')['ClosePrice']\n",
    "y_test = pd.read_csv(DATA_DIR / 'y_test.csv')['ClosePrice']\n",
    "\n",
    "print(f\"Training: {X_train.shape}, Test: {X_test.shape}\")"
   ]
  },
  {
   "cell_type": "code",
   "execution_count": 13,
   "id": "e78cddfe",
   "metadata": {},
   "outputs": [
    {
     "name": "stdout",
     "output_type": "stream",
     "text": [
      "Features scaled (StandardScaler)\n"
     ]
    }
   ],
   "source": [
    "# Scale features for linear models\n",
    "scaler = StandardScaler()\n",
    "X_train_scaled = scaler.fit_transform(X_train)\n",
    "X_test_scaled = scaler.transform(X_test)\n",
    "\n",
    "print(\"Features scaled (StandardScaler)\")"
   ]
  },
  {
   "cell_type": "code",
   "execution_count": 14,
   "id": "770eeb4d",
   "metadata": {},
   "outputs": [],
   "source": [
    "# Evaluation function\n",
    "def evaluate_model(model, X_train, X_test, y_train, y_test, model_name):\n",
    "    \"\"\"Comprehensive model evaluation\"\"\"\n",
    "    model.fit(X_train, y_train)\n",
    "    \n",
    "    y_pred_train = model.predict(X_train)\n",
    "    y_pred_test = model.predict(X_test)\n",
    "    \n",
    "    results = {\n",
    "        'model': model_name,\n",
    "        'train_r2': r2_score(y_train, y_pred_train),\n",
    "        'test_r2': r2_score(y_test, y_pred_test),\n",
    "        'test_rmse': np.sqrt(mean_squared_error(y_test, y_pred_test)),\n",
    "        'test_mae': mean_absolute_error(y_test, y_pred_test),\n",
    "        'test_mdape': np.median(np.abs((y_test - y_pred_test) / y_test)) * 100\n",
    "    }\n",
    "    \n",
    "    print(f\"\\n{model_name}:\")\n",
    "    print(f\"  Train R²: {results['train_r2']:.4f}\")\n",
    "    print(f\"  Test R²:  {results['test_r2']:.4f}\")\n",
    "    print(f\"  RMSE:     ${results['test_rmse']:,.0f}\")\n",
    "    print(f\"  MAE:      ${results['test_mae']:,.0f}\")\n",
    "    print(f\"  MdAPE:    {results['test_mdape']:.2f}%\")\n",
    "    \n",
    "    return results, model\n",
    "\n",
    "baseline_results = []"
   ]
  },
  {
   "cell_type": "markdown",
   "id": "99e09cfb",
   "metadata": {},
   "source": [
    "## 1. Linear Regression (OLS)"
   ]
  },
  {
   "cell_type": "code",
   "execution_count": 15,
   "id": "32b5e359",
   "metadata": {},
   "outputs": [
    {
     "name": "stdout",
     "output_type": "stream",
     "text": [
      "\n",
      "Linear Regression:\n",
      "  Train R²: 0.6527\n",
      "  Test R²:  0.6169\n",
      "  RMSE:     $524,354\n",
      "  MAE:      $319,024\n",
      "  MdAPE:    38.31%\n"
     ]
    }
   ],
   "source": [
    "lr = LinearRegression()\n",
    "lr_results, lr_model = evaluate_model(lr, X_train_scaled, X_test_scaled, \n",
    "                                      y_train, y_test, \"Linear Regression\")\n",
    "baseline_results.append(lr_results)"
   ]
  },
  {
   "cell_type": "markdown",
   "id": "fb87a243",
   "metadata": {},
   "source": [
    "## 2. Ridge Regression (Tuned)"
   ]
  },
  {
   "cell_type": "code",
   "execution_count": 8,
   "id": "10daf606",
   "metadata": {},
   "outputs": [
    {
     "name": "stdout",
     "output_type": "stream",
     "text": [
      "Best Ridge alpha: 63.5122\n",
      "\n",
      "Ridge (tuned):\n",
      "  Train R²: 0.6527\n",
      "  Test R²:  0.6170\n",
      "  RMSE:     $524,259\n",
      "  MAE:      $318,933\n",
      "  MdAPE:    38.32%\n",
      "\n",
      "Ridge (tuned):\n",
      "  Train R²: 0.6527\n",
      "  Test R²:  0.6170\n",
      "  RMSE:     $524,259\n",
      "  MAE:      $318,933\n",
      "  MdAPE:    38.32%\n"
     ]
    }
   ],
   "source": [
    "ridge_search = RandomizedSearchCV(\n",
    "    Ridge(random_state=42),\n",
    "    param_distributions={'alpha': loguniform(0.01, 100)},\n",
    "    n_iter=10,  # Reduced from 20 to save memory\n",
    "    cv=3,  # Reduced from 5 to save memory with large dataset\n",
    "    scoring='r2',\n",
    "    random_state=42,\n",
    "    n_jobs=4  # Limit parallel jobs to reduce memory usage\n",
    ")\n",
    "\n",
    "ridge_search.fit(X_train_scaled, y_train)\n",
    "best_ridge = ridge_search.best_estimator_\n",
    "\n",
    "print(f\"Best Ridge alpha: {ridge_search.best_params_['alpha']:.4f}\")\n",
    "\n",
    "ridge_results, ridge_model = evaluate_model(best_ridge, X_train_scaled, X_test_scaled,\n",
    "                                           y_train, y_test, \"Ridge (tuned)\")\n",
    "baseline_results.append(ridge_results)"
   ]
  },
  {
   "cell_type": "markdown",
   "id": "c2ca814f",
   "metadata": {},
   "source": [
    "## 3. Lasso Regression (Tuned)"
   ]
  },
  {
   "cell_type": "code",
   "execution_count": null,
   "id": "419a41f5",
   "metadata": {},
   "outputs": [
    {
     "ename": "KeyboardInterrupt",
     "evalue": "",
     "output_type": "error",
     "traceback": [
      "\u001b[31m---------------------------------------------------------------------------\u001b[39m",
      "\u001b[31mKeyboardInterrupt\u001b[39m                         Traceback (most recent call last)",
      "\u001b[36mCell\u001b[39m\u001b[36m \u001b[39m\u001b[32mIn[9]\u001b[39m\u001b[32m, line 11\u001b[39m\n\u001b[32m      1\u001b[39m lasso_search = RandomizedSearchCV(\n\u001b[32m      2\u001b[39m     Lasso(random_state=\u001b[32m42\u001b[39m, max_iter=\u001b[32m5000\u001b[39m),\n\u001b[32m      3\u001b[39m     param_distributions={\u001b[33m'\u001b[39m\u001b[33malpha\u001b[39m\u001b[33m'\u001b[39m: loguniform(\u001b[32m0.01\u001b[39m, \u001b[32m100\u001b[39m)},\n\u001b[32m   (...)\u001b[39m\u001b[32m      8\u001b[39m     n_jobs=\u001b[32m4\u001b[39m  \u001b[38;5;66;03m# Limit parallel jobs to reduce memory usage\u001b[39;00m\n\u001b[32m      9\u001b[39m )\n\u001b[32m---> \u001b[39m\u001b[32m11\u001b[39m \u001b[43mlasso_search\u001b[49m\u001b[43m.\u001b[49m\u001b[43mfit\u001b[49m\u001b[43m(\u001b[49m\u001b[43mX_train_scaled\u001b[49m\u001b[43m,\u001b[49m\u001b[43m \u001b[49m\u001b[43my_train\u001b[49m\u001b[43m)\u001b[49m\n\u001b[32m     12\u001b[39m best_lasso = lasso_search.best_estimator_\n\u001b[32m     14\u001b[39m \u001b[38;5;28mprint\u001b[39m(\u001b[33mf\u001b[39m\u001b[33m\"\u001b[39m\u001b[33mBest Lasso alpha: \u001b[39m\u001b[38;5;132;01m{\u001b[39;00mlasso_search.best_params_[\u001b[33m'\u001b[39m\u001b[33malpha\u001b[39m\u001b[33m'\u001b[39m]\u001b[38;5;132;01m:\u001b[39;00m\u001b[33m.4f\u001b[39m\u001b[38;5;132;01m}\u001b[39;00m\u001b[33m\"\u001b[39m)\n",
      "\u001b[36mFile \u001b[39m\u001b[32mc:\\Users\\lpnhu\\Downloads\\home-price-prediction\\.venv\\Lib\\site-packages\\sklearn\\base.py:1365\u001b[39m, in \u001b[36m_fit_context.<locals>.decorator.<locals>.wrapper\u001b[39m\u001b[34m(estimator, *args, **kwargs)\u001b[39m\n\u001b[32m   1358\u001b[39m     estimator._validate_params()\n\u001b[32m   1360\u001b[39m \u001b[38;5;28;01mwith\u001b[39;00m config_context(\n\u001b[32m   1361\u001b[39m     skip_parameter_validation=(\n\u001b[32m   1362\u001b[39m         prefer_skip_nested_validation \u001b[38;5;129;01mor\u001b[39;00m global_skip_validation\n\u001b[32m   1363\u001b[39m     )\n\u001b[32m   1364\u001b[39m ):\n\u001b[32m-> \u001b[39m\u001b[32m1365\u001b[39m     \u001b[38;5;28;01mreturn\u001b[39;00m \u001b[43mfit_method\u001b[49m\u001b[43m(\u001b[49m\u001b[43mestimator\u001b[49m\u001b[43m,\u001b[49m\u001b[43m \u001b[49m\u001b[43m*\u001b[49m\u001b[43margs\u001b[49m\u001b[43m,\u001b[49m\u001b[43m \u001b[49m\u001b[43m*\u001b[49m\u001b[43m*\u001b[49m\u001b[43mkwargs\u001b[49m\u001b[43m)\u001b[49m\n",
      "\u001b[36mFile \u001b[39m\u001b[32mc:\\Users\\lpnhu\\Downloads\\home-price-prediction\\.venv\\Lib\\site-packages\\sklearn\\model_selection\\_search.py:1051\u001b[39m, in \u001b[36mBaseSearchCV.fit\u001b[39m\u001b[34m(self, X, y, **params)\u001b[39m\n\u001b[32m   1045\u001b[39m     results = \u001b[38;5;28mself\u001b[39m._format_results(\n\u001b[32m   1046\u001b[39m         all_candidate_params, n_splits, all_out, all_more_results\n\u001b[32m   1047\u001b[39m     )\n\u001b[32m   1049\u001b[39m     \u001b[38;5;28;01mreturn\u001b[39;00m results\n\u001b[32m-> \u001b[39m\u001b[32m1051\u001b[39m \u001b[38;5;28;43mself\u001b[39;49m\u001b[43m.\u001b[49m\u001b[43m_run_search\u001b[49m\u001b[43m(\u001b[49m\u001b[43mevaluate_candidates\u001b[49m\u001b[43m)\u001b[49m\n\u001b[32m   1053\u001b[39m \u001b[38;5;66;03m# multimetric is determined here because in the case of a callable\u001b[39;00m\n\u001b[32m   1054\u001b[39m \u001b[38;5;66;03m# self.scoring the return type is only known after calling\u001b[39;00m\n\u001b[32m   1055\u001b[39m first_test_score = all_out[\u001b[32m0\u001b[39m][\u001b[33m\"\u001b[39m\u001b[33mtest_scores\u001b[39m\u001b[33m\"\u001b[39m]\n",
      "\u001b[36mFile \u001b[39m\u001b[32mc:\\Users\\lpnhu\\Downloads\\home-price-prediction\\.venv\\Lib\\site-packages\\sklearn\\model_selection\\_search.py:1992\u001b[39m, in \u001b[36mRandomizedSearchCV._run_search\u001b[39m\u001b[34m(self, evaluate_candidates)\u001b[39m\n\u001b[32m   1990\u001b[39m \u001b[38;5;28;01mdef\u001b[39;00m\u001b[38;5;250m \u001b[39m\u001b[34m_run_search\u001b[39m(\u001b[38;5;28mself\u001b[39m, evaluate_candidates):\n\u001b[32m   1991\u001b[39m \u001b[38;5;250m    \u001b[39m\u001b[33;03m\"\"\"Search n_iter candidates from param_distributions\"\"\"\u001b[39;00m\n\u001b[32m-> \u001b[39m\u001b[32m1992\u001b[39m     \u001b[43mevaluate_candidates\u001b[49m\u001b[43m(\u001b[49m\n\u001b[32m   1993\u001b[39m \u001b[43m        \u001b[49m\u001b[43mParameterSampler\u001b[49m\u001b[43m(\u001b[49m\n\u001b[32m   1994\u001b[39m \u001b[43m            \u001b[49m\u001b[38;5;28;43mself\u001b[39;49m\u001b[43m.\u001b[49m\u001b[43mparam_distributions\u001b[49m\u001b[43m,\u001b[49m\u001b[43m \u001b[49m\u001b[38;5;28;43mself\u001b[39;49m\u001b[43m.\u001b[49m\u001b[43mn_iter\u001b[49m\u001b[43m,\u001b[49m\u001b[43m \u001b[49m\u001b[43mrandom_state\u001b[49m\u001b[43m=\u001b[49m\u001b[38;5;28;43mself\u001b[39;49m\u001b[43m.\u001b[49m\u001b[43mrandom_state\u001b[49m\n\u001b[32m   1995\u001b[39m \u001b[43m        \u001b[49m\u001b[43m)\u001b[49m\n\u001b[32m   1996\u001b[39m \u001b[43m    \u001b[49m\u001b[43m)\u001b[49m\n",
      "\u001b[36mFile \u001b[39m\u001b[32mc:\\Users\\lpnhu\\Downloads\\home-price-prediction\\.venv\\Lib\\site-packages\\sklearn\\model_selection\\_search.py:997\u001b[39m, in \u001b[36mBaseSearchCV.fit.<locals>.evaluate_candidates\u001b[39m\u001b[34m(candidate_params, cv, more_results)\u001b[39m\n\u001b[32m    989\u001b[39m \u001b[38;5;28;01mif\u001b[39;00m \u001b[38;5;28mself\u001b[39m.verbose > \u001b[32m0\u001b[39m:\n\u001b[32m    990\u001b[39m     \u001b[38;5;28mprint\u001b[39m(\n\u001b[32m    991\u001b[39m         \u001b[33m\"\u001b[39m\u001b[33mFitting \u001b[39m\u001b[38;5;132;01m{0}\u001b[39;00m\u001b[33m folds for each of \u001b[39m\u001b[38;5;132;01m{1}\u001b[39;00m\u001b[33m candidates,\u001b[39m\u001b[33m\"\u001b[39m\n\u001b[32m    992\u001b[39m         \u001b[33m\"\u001b[39m\u001b[33m totalling \u001b[39m\u001b[38;5;132;01m{2}\u001b[39;00m\u001b[33m fits\u001b[39m\u001b[33m\"\u001b[39m.format(\n\u001b[32m    993\u001b[39m             n_splits, n_candidates, n_candidates * n_splits\n\u001b[32m    994\u001b[39m         )\n\u001b[32m    995\u001b[39m     )\n\u001b[32m--> \u001b[39m\u001b[32m997\u001b[39m out = \u001b[43mparallel\u001b[49m\u001b[43m(\u001b[49m\n\u001b[32m    998\u001b[39m \u001b[43m    \u001b[49m\u001b[43mdelayed\u001b[49m\u001b[43m(\u001b[49m\u001b[43m_fit_and_score\u001b[49m\u001b[43m)\u001b[49m\u001b[43m(\u001b[49m\n\u001b[32m    999\u001b[39m \u001b[43m        \u001b[49m\u001b[43mclone\u001b[49m\u001b[43m(\u001b[49m\u001b[43mbase_estimator\u001b[49m\u001b[43m)\u001b[49m\u001b[43m,\u001b[49m\n\u001b[32m   1000\u001b[39m \u001b[43m        \u001b[49m\u001b[43mX\u001b[49m\u001b[43m,\u001b[49m\n\u001b[32m   1001\u001b[39m \u001b[43m        \u001b[49m\u001b[43my\u001b[49m\u001b[43m,\u001b[49m\n\u001b[32m   1002\u001b[39m \u001b[43m        \u001b[49m\u001b[43mtrain\u001b[49m\u001b[43m=\u001b[49m\u001b[43mtrain\u001b[49m\u001b[43m,\u001b[49m\n\u001b[32m   1003\u001b[39m \u001b[43m        \u001b[49m\u001b[43mtest\u001b[49m\u001b[43m=\u001b[49m\u001b[43mtest\u001b[49m\u001b[43m,\u001b[49m\n\u001b[32m   1004\u001b[39m \u001b[43m        \u001b[49m\u001b[43mparameters\u001b[49m\u001b[43m=\u001b[49m\u001b[43mparameters\u001b[49m\u001b[43m,\u001b[49m\n\u001b[32m   1005\u001b[39m \u001b[43m        \u001b[49m\u001b[43msplit_progress\u001b[49m\u001b[43m=\u001b[49m\u001b[43m(\u001b[49m\u001b[43msplit_idx\u001b[49m\u001b[43m,\u001b[49m\u001b[43m \u001b[49m\u001b[43mn_splits\u001b[49m\u001b[43m)\u001b[49m\u001b[43m,\u001b[49m\n\u001b[32m   1006\u001b[39m \u001b[43m        \u001b[49m\u001b[43mcandidate_progress\u001b[49m\u001b[43m=\u001b[49m\u001b[43m(\u001b[49m\u001b[43mcand_idx\u001b[49m\u001b[43m,\u001b[49m\u001b[43m \u001b[49m\u001b[43mn_candidates\u001b[49m\u001b[43m)\u001b[49m\u001b[43m,\u001b[49m\n\u001b[32m   1007\u001b[39m \u001b[43m        \u001b[49m\u001b[43m*\u001b[49m\u001b[43m*\u001b[49m\u001b[43mfit_and_score_kwargs\u001b[49m\u001b[43m,\u001b[49m\n\u001b[32m   1008\u001b[39m \u001b[43m    \u001b[49m\u001b[43m)\u001b[49m\n\u001b[32m   1009\u001b[39m \u001b[43m    \u001b[49m\u001b[38;5;28;43;01mfor\u001b[39;49;00m\u001b[43m \u001b[49m\u001b[43m(\u001b[49m\u001b[43mcand_idx\u001b[49m\u001b[43m,\u001b[49m\u001b[43m \u001b[49m\u001b[43mparameters\u001b[49m\u001b[43m)\u001b[49m\u001b[43m,\u001b[49m\u001b[43m \u001b[49m\u001b[43m(\u001b[49m\u001b[43msplit_idx\u001b[49m\u001b[43m,\u001b[49m\u001b[43m \u001b[49m\u001b[43m(\u001b[49m\u001b[43mtrain\u001b[49m\u001b[43m,\u001b[49m\u001b[43m \u001b[49m\u001b[43mtest\u001b[49m\u001b[43m)\u001b[49m\u001b[43m)\u001b[49m\u001b[43m \u001b[49m\u001b[38;5;129;43;01min\u001b[39;49;00m\u001b[43m \u001b[49m\u001b[43mproduct\u001b[49m\u001b[43m(\u001b[49m\n\u001b[32m   1010\u001b[39m \u001b[43m        \u001b[49m\u001b[38;5;28;43menumerate\u001b[39;49m\u001b[43m(\u001b[49m\u001b[43mcandidate_params\u001b[49m\u001b[43m)\u001b[49m\u001b[43m,\u001b[49m\n\u001b[32m   1011\u001b[39m \u001b[43m        \u001b[49m\u001b[38;5;28;43menumerate\u001b[39;49m\u001b[43m(\u001b[49m\u001b[43mcv\u001b[49m\u001b[43m.\u001b[49m\u001b[43msplit\u001b[49m\u001b[43m(\u001b[49m\u001b[43mX\u001b[49m\u001b[43m,\u001b[49m\u001b[43m \u001b[49m\u001b[43my\u001b[49m\u001b[43m,\u001b[49m\u001b[43m \u001b[49m\u001b[43m*\u001b[49m\u001b[43m*\u001b[49m\u001b[43mrouted_params\u001b[49m\u001b[43m.\u001b[49m\u001b[43msplitter\u001b[49m\u001b[43m.\u001b[49m\u001b[43msplit\u001b[49m\u001b[43m)\u001b[49m\u001b[43m)\u001b[49m\u001b[43m,\u001b[49m\n\u001b[32m   1012\u001b[39m \u001b[43m    \u001b[49m\u001b[43m)\u001b[49m\n\u001b[32m   1013\u001b[39m \u001b[43m\u001b[49m\u001b[43m)\u001b[49m\n\u001b[32m   1015\u001b[39m \u001b[38;5;28;01mif\u001b[39;00m \u001b[38;5;28mlen\u001b[39m(out) < \u001b[32m1\u001b[39m:\n\u001b[32m   1016\u001b[39m     \u001b[38;5;28;01mraise\u001b[39;00m \u001b[38;5;167;01mValueError\u001b[39;00m(\n\u001b[32m   1017\u001b[39m         \u001b[33m\"\u001b[39m\u001b[33mNo fits were performed. \u001b[39m\u001b[33m\"\u001b[39m\n\u001b[32m   1018\u001b[39m         \u001b[33m\"\u001b[39m\u001b[33mWas the CV iterator empty? \u001b[39m\u001b[33m\"\u001b[39m\n\u001b[32m   1019\u001b[39m         \u001b[33m\"\u001b[39m\u001b[33mWere there no candidates?\u001b[39m\u001b[33m\"\u001b[39m\n\u001b[32m   1020\u001b[39m     )\n",
      "\u001b[36mFile \u001b[39m\u001b[32mc:\\Users\\lpnhu\\Downloads\\home-price-prediction\\.venv\\Lib\\site-packages\\sklearn\\utils\\parallel.py:82\u001b[39m, in \u001b[36mParallel.__call__\u001b[39m\u001b[34m(self, iterable)\u001b[39m\n\u001b[32m     73\u001b[39m warning_filters = warnings.filters\n\u001b[32m     74\u001b[39m iterable_with_config_and_warning_filters = (\n\u001b[32m     75\u001b[39m     (\n\u001b[32m     76\u001b[39m         _with_config_and_warning_filters(delayed_func, config, warning_filters),\n\u001b[32m   (...)\u001b[39m\u001b[32m     80\u001b[39m     \u001b[38;5;28;01mfor\u001b[39;00m delayed_func, args, kwargs \u001b[38;5;129;01min\u001b[39;00m iterable\n\u001b[32m     81\u001b[39m )\n\u001b[32m---> \u001b[39m\u001b[32m82\u001b[39m \u001b[38;5;28;01mreturn\u001b[39;00m \u001b[38;5;28;43msuper\u001b[39;49m\u001b[43m(\u001b[49m\u001b[43m)\u001b[49m\u001b[43m.\u001b[49m\u001b[34;43m__call__\u001b[39;49m\u001b[43m(\u001b[49m\u001b[43miterable_with_config_and_warning_filters\u001b[49m\u001b[43m)\u001b[49m\n",
      "\u001b[36mFile \u001b[39m\u001b[32mc:\\Users\\lpnhu\\Downloads\\home-price-prediction\\.venv\\Lib\\site-packages\\joblib\\parallel.py:2072\u001b[39m, in \u001b[36mParallel.__call__\u001b[39m\u001b[34m(self, iterable)\u001b[39m\n\u001b[32m   2066\u001b[39m \u001b[38;5;66;03m# The first item from the output is blank, but it makes the interpreter\u001b[39;00m\n\u001b[32m   2067\u001b[39m \u001b[38;5;66;03m# progress until it enters the Try/Except block of the generator and\u001b[39;00m\n\u001b[32m   2068\u001b[39m \u001b[38;5;66;03m# reaches the first `yield` statement. This starts the asynchronous\u001b[39;00m\n\u001b[32m   2069\u001b[39m \u001b[38;5;66;03m# dispatch of the tasks to the workers.\u001b[39;00m\n\u001b[32m   2070\u001b[39m \u001b[38;5;28mnext\u001b[39m(output)\n\u001b[32m-> \u001b[39m\u001b[32m2072\u001b[39m \u001b[38;5;28;01mreturn\u001b[39;00m output \u001b[38;5;28;01mif\u001b[39;00m \u001b[38;5;28mself\u001b[39m.return_generator \u001b[38;5;28;01melse\u001b[39;00m \u001b[38;5;28;43mlist\u001b[39;49m\u001b[43m(\u001b[49m\u001b[43moutput\u001b[49m\u001b[43m)\u001b[49m\n",
      "\u001b[36mFile \u001b[39m\u001b[32mc:\\Users\\lpnhu\\Downloads\\home-price-prediction\\.venv\\Lib\\site-packages\\joblib\\parallel.py:1682\u001b[39m, in \u001b[36mParallel._get_outputs\u001b[39m\u001b[34m(self, iterator, pre_dispatch)\u001b[39m\n\u001b[32m   1679\u001b[39m     \u001b[38;5;28;01myield\u001b[39;00m\n\u001b[32m   1681\u001b[39m     \u001b[38;5;28;01mwith\u001b[39;00m \u001b[38;5;28mself\u001b[39m._backend.retrieval_context():\n\u001b[32m-> \u001b[39m\u001b[32m1682\u001b[39m         \u001b[38;5;28;01myield from\u001b[39;00m \u001b[38;5;28mself\u001b[39m._retrieve()\n\u001b[32m   1684\u001b[39m \u001b[38;5;28;01mexcept\u001b[39;00m \u001b[38;5;167;01mGeneratorExit\u001b[39;00m:\n\u001b[32m   1685\u001b[39m     \u001b[38;5;66;03m# The generator has been garbage collected before being fully\u001b[39;00m\n\u001b[32m   1686\u001b[39m     \u001b[38;5;66;03m# consumed. This aborts the remaining tasks if possible and warn\u001b[39;00m\n\u001b[32m   1687\u001b[39m     \u001b[38;5;66;03m# the user if necessary.\u001b[39;00m\n\u001b[32m   1688\u001b[39m     \u001b[38;5;28mself\u001b[39m._exception = \u001b[38;5;28;01mTrue\u001b[39;00m\n",
      "\u001b[36mFile \u001b[39m\u001b[32mc:\\Users\\lpnhu\\Downloads\\home-price-prediction\\.venv\\Lib\\site-packages\\joblib\\parallel.py:1800\u001b[39m, in \u001b[36mParallel._retrieve\u001b[39m\u001b[34m(self)\u001b[39m\n\u001b[32m   1789\u001b[39m \u001b[38;5;28;01mif\u001b[39;00m \u001b[38;5;28mself\u001b[39m.return_ordered:\n\u001b[32m   1790\u001b[39m     \u001b[38;5;66;03m# Case ordered: wait for completion (or error) of the next job\u001b[39;00m\n\u001b[32m   1791\u001b[39m     \u001b[38;5;66;03m# that have been dispatched and not retrieved yet. If no job\u001b[39;00m\n\u001b[32m   (...)\u001b[39m\u001b[32m   1795\u001b[39m     \u001b[38;5;66;03m# control only have to be done on the amount of time the next\u001b[39;00m\n\u001b[32m   1796\u001b[39m     \u001b[38;5;66;03m# dispatched job is pending.\u001b[39;00m\n\u001b[32m   1797\u001b[39m     \u001b[38;5;28;01mif\u001b[39;00m (nb_jobs == \u001b[32m0\u001b[39m) \u001b[38;5;129;01mor\u001b[39;00m (\n\u001b[32m   1798\u001b[39m         \u001b[38;5;28mself\u001b[39m._jobs[\u001b[32m0\u001b[39m].get_status(timeout=\u001b[38;5;28mself\u001b[39m.timeout) == TASK_PENDING\n\u001b[32m   1799\u001b[39m     ):\n\u001b[32m-> \u001b[39m\u001b[32m1800\u001b[39m         \u001b[43mtime\u001b[49m\u001b[43m.\u001b[49m\u001b[43msleep\u001b[49m\u001b[43m(\u001b[49m\u001b[32;43m0.01\u001b[39;49m\u001b[43m)\u001b[49m\n\u001b[32m   1801\u001b[39m         \u001b[38;5;28;01mcontinue\u001b[39;00m\n\u001b[32m   1803\u001b[39m \u001b[38;5;28;01melif\u001b[39;00m nb_jobs == \u001b[32m0\u001b[39m:\n\u001b[32m   1804\u001b[39m     \u001b[38;5;66;03m# Case unordered: jobs are added to the list of jobs to\u001b[39;00m\n\u001b[32m   1805\u001b[39m     \u001b[38;5;66;03m# retrieve `self._jobs` only once completed or in error, which\u001b[39;00m\n\u001b[32m   (...)\u001b[39m\u001b[32m   1811\u001b[39m     \u001b[38;5;66;03m# timeouts before any other dispatched job has completed and\u001b[39;00m\n\u001b[32m   1812\u001b[39m     \u001b[38;5;66;03m# been added to `self._jobs` to be retrieved.\u001b[39;00m\n",
      "\u001b[31mKeyboardInterrupt\u001b[39m: "
     ]
    }
   ],
   "source": [
    "lasso_search = RandomizedSearchCV(\n",
    "    Lasso(random_state=42, max_iter=20000, tol=1e-4),\n",
    "    param_distributions={'alpha': loguniform(0.01, 100)},\n",
    "    n_iter=10,  # Reduced from 20 to save memory\n",
    "    cv=3,  # Reduced from 5 to save memory with large dataset\n",
    "    scoring='r2',\n",
    "    random_state=42,\n",
    "    n_jobs=4  # Limit parallel jobs to reduce memory usage\n",
    ")\n",
    "\n",
    "lasso_search.fit(X_train_scaled, y_train)\n",
    "best_lasso = lasso_search.best_estimator_\n",
    "\n",
    "print(f\"Best Lasso alpha: {lasso_search.best_params_['alpha']:.4f}\")\n",
    "\n",
    "lasso_results, lasso_model = evaluate_model(best_lasso, X_train_scaled, X_test_scaled,\n",
    "                                           y_train, y_test, \"Lasso (tuned)\")\n",
    "baseline_results.append(lasso_results)"
   ]
  },
  {
   "cell_type": "markdown",
   "id": "5eb1b129",
   "metadata": {},
   "source": [
    "## 4. Elastic Net (Tuned)"
   ]
  },
  {
   "cell_type": "code",
   "execution_count": null,
   "id": "bdb374ea",
   "metadata": {},
   "outputs": [
    {
     "name": "stdout",
     "output_type": "stream",
     "text": [
      "Best Elastic Net params: {'alpha': np.float64(0.012366582530130834), 'l1_ratio': 0.5}\n",
      "\n",
      "Elastic Net (tuned):\n",
      "  Train R²: 0.9007\n",
      "  Test R²:  0.6573\n",
      "  RMSE:     $552,159\n",
      "  MAE:      $303,438\n",
      "  MdAPE:    19.15%\n",
      "\n",
      "Elastic Net (tuned):\n",
      "  Train R²: 0.9007\n",
      "  Test R²:  0.6573\n",
      "  RMSE:     $552,159\n",
      "  MAE:      $303,438\n",
      "  MdAPE:    19.15%\n"
     ]
    }
   ],
   "source": [
    "elastic_search = RandomizedSearchCV(\n",
    "    ElasticNet(random_state=42, max_iter=20000, tol=1e-4),\n",
    "    param_distributions={\n",
    "        'alpha': loguniform(0.01, 100),\n",
    "        'l1_ratio': [0.1, 0.3, 0.5, 0.7, 0.9]\n",
    "    },\n",
    "    n_iter=15,  # Reduced from 30 to save memory\n",
    "    cv=3,  # Reduced from 5 to save memory with large dataset\n",
    "    scoring='r2',\n",
    "    random_state=42,\n",
    "    n_jobs=4  # Limit parallel jobs to reduce memory usage\n",
    ")\n",
    "\n",
    "elastic_search.fit(X_train_scaled, y_train)\n",
    "best_elastic = elastic_search.best_estimator_\n",
    "\n",
    "print(f\"Best Elastic Net params: {elastic_search.best_params_}\")\n",
    "\n",
    "elastic_results, elastic_model = evaluate_model(best_elastic, X_train_scaled, X_test_scaled,\n",
    "                                               y_train, y_test, \"Elastic Net (tuned)\")\n",
    "baseline_results.append(elastic_results)"
   ]
  },
  {
   "cell_type": "markdown",
   "id": "ccec9523",
   "metadata": {},
   "source": [
    "## Results Summary"
   ]
  },
  {
   "cell_type": "code",
   "execution_count": null,
   "id": "bdf42013",
   "metadata": {},
   "outputs": [
    {
     "name": "stdout",
     "output_type": "stream",
     "text": [
      "\n",
      "============================================================\n",
      "BASELINE LINEAR MODELS SUMMARY\n",
      "============================================================\n",
      "              model  train_r2  test_r2     test_rmse      test_mae  test_mdape\n",
      "Elastic Net (tuned)  0.900662 0.657344 552159.461583 303437.925519   19.152770\n",
      "      Ridge (tuned)  0.900719 0.655736 553453.567028 304351.106297   19.205854\n",
      "  Linear Regression  0.900730 0.655412 553713.869116 304549.464485   19.196588\n",
      "      Lasso (tuned)  0.900722 0.655377 553742.464251 304522.856574   19.204307\n",
      "\n",
      "Best baseline model: Elastic Net (tuned) (R² = 0.6573)\n",
      "\n",
      "Models saved to c:\\Users\\lpnhu\\Downloads\\home-price-prediction\\models\n",
      "\n",
      "✅ Baseline linear models complete!\n",
      "              model  train_r2  test_r2     test_rmse      test_mae  test_mdape\n",
      "Elastic Net (tuned)  0.900662 0.657344 552159.461583 303437.925519   19.152770\n",
      "      Ridge (tuned)  0.900719 0.655736 553453.567028 304351.106297   19.205854\n",
      "  Linear Regression  0.900730 0.655412 553713.869116 304549.464485   19.196588\n",
      "      Lasso (tuned)  0.900722 0.655377 553742.464251 304522.856574   19.204307\n",
      "\n",
      "Best baseline model: Elastic Net (tuned) (R² = 0.6573)\n",
      "\n",
      "Models saved to c:\\Users\\lpnhu\\Downloads\\home-price-prediction\\models\n",
      "\n",
      "✅ Baseline linear models complete!\n"
     ]
    }
   ],
   "source": [
    "results_df = pd.DataFrame(baseline_results).sort_values('test_r2', ascending=False)\n",
    "\n",
    "print(\"\\n\" + \"=\"*60)\n",
    "print(\"BASELINE LINEAR MODELS SUMMARY\")\n",
    "print(\"=\"*60)\n",
    "print(results_df.to_string(index=False))\n",
    "\n",
    "# Save results\n",
    "results_df.to_csv(MODELS_DIR / 'baseline_linear_results.csv', index=False)\n",
    "\n",
    "# Save best model\n",
    "best_model_name = results_df.iloc[0]['model']\n",
    "best_r2 = results_df.iloc[0]['test_r2']\n",
    "\n",
    "print(f\"\\nBest baseline model: {best_model_name} (R² = {best_r2:.4f})\")\n",
    "\n",
    "joblib.dump(scaler, MODELS_DIR / 'scaler_baseline.joblib')\n",
    "joblib.dump(best_ridge if 'Ridge' in best_model_name else best_elastic, \n",
    "           MODELS_DIR / 'best_baseline_model.joblib')\n",
    "\n",
    "print(f\"\\nModels saved to {MODELS_DIR}\")\n",
    "print(\"\\n✅ Baseline linear models complete!\")"
   ]
  }
 ],
 "metadata": {
  "kernelspec": {
   "display_name": ".venv",
   "language": "python",
   "name": "python3"
  },
  "language_info": {
   "codemirror_mode": {
    "name": "ipython",
    "version": 3
   },
   "file_extension": ".py",
   "mimetype": "text/x-python",
   "name": "python",
   "nbconvert_exporter": "python",
   "pygments_lexer": "ipython3",
   "version": "3.13.9"
  }
 },
 "nbformat": 4,
 "nbformat_minor": 5
}
