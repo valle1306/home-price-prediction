{
 "cells": [
  {
   "cell_type": "markdown",
   "id": "ff1f3f7b",
   "metadata": {},
   "source": [
    "# 01 - Data Loading & Initial Exploration\n",
    "\n",
    "**Objective:** Load all monthly data from original `data/` folder and perform train/test split\n",
    "\n",
    "**Strategy:**\n",
    "- **Training:** Months 1-7 (January to July 2025)\n",
    "- **Testing:** Month 8 (August 2025) - chronological holdout\n",
    "\n",
    "**Output:** `data/train_raw.csv`, `data/test_raw.csv`"
   ]
  },
  {
   "cell_type": "code",
   "execution_count": 1,
   "id": "3531569f",
   "metadata": {
    "execution": {
     "iopub.execute_input": "2025-10-24T03:40:25.229885Z",
     "iopub.status.busy": "2025-10-24T03:40:25.229476Z",
     "iopub.status.idle": "2025-10-24T03:40:26.324462Z",
     "shell.execute_reply": "2025-10-24T03:40:26.323680Z"
    }
   },
   "outputs": [
    {
     "name": "stdout",
     "output_type": "stream",
     "text": [
      "Notebook run: 2025-10-24T08:44:29.471163\n"
     ]
    }
   ],
   "source": [
    "import warnings\n",
    "warnings.filterwarnings('ignore')\n",
    "\n",
    "import numpy as np\n",
    "import pandas as pd\n",
    "from pathlib import Path\n",
    "from datetime import datetime\n",
    "import matplotlib.pyplot as plt\n",
    "import seaborn as sns\n",
    "\n",
    "pd.set_option('display.max_columns', 100)\n",
    "plt.style.use('default')\n",
    "sns.set_palette('husl')\n",
    "\n",
    "print(f\"Notebook run: {datetime.now().isoformat()}\")"
   ]
  },
  {
   "cell_type": "code",
   "execution_count": null,
   "id": "24df5831",
   "metadata": {
    "execution": {
     "iopub.execute_input": "2025-10-24T03:40:26.326719Z",
     "iopub.status.busy": "2025-10-24T03:40:26.326205Z",
     "iopub.status.idle": "2025-10-24T03:40:26.330456Z",
     "shell.execute_reply": "2025-10-24T03:40:26.329750Z"
    }
   },
   "outputs": [
    {
     "name": "stdout",
     "output_type": "stream",
     "text": [
      "ROOT: c:\\Users\\lpnhu\\Downloads\\home-price-prediction\n",
      "RAW_DATA_DIR exists: True\n"
     ]
    }
   ],
   "source": [
    "# Configure paths (works on Windows and Linux/Amarel)\n",
    "from pathlib import Path\n",
    "import os\n",
    "\n",
    "# Use current working directory as ROOT\n",
    "ROOT = Path.cwd()\n",
    "RAW_DATA_DIR = ROOT / 'filled_data'  # Use filled_data with better lat/long\n",
    "MODELS_DIR = ROOT / 'models'\n",
    "\n",
    "MODELS_DIR.mkdir(exist_ok=True)\n",
    "\n",
    "print(f\"ROOT: {ROOT}\")\n",
    "print(f\"RAW_DATA_DIR exists: {RAW_DATA_DIR.exists()}\")\n",
    "print(f\"MODELS_DIR exists: {MODELS_DIR.exists()}\")"
   ]
  },
  {
   "cell_type": "code",
   "execution_count": 3,
   "id": "6722f527",
   "metadata": {
    "execution": {
     "iopub.execute_input": "2025-10-24T03:40:26.332103Z",
     "iopub.status.busy": "2025-10-24T03:40:26.331844Z",
     "iopub.status.idle": "2025-10-24T03:40:26.335681Z",
     "shell.execute_reply": "2025-10-24T03:40:26.334943Z"
    }
   },
   "outputs": [
    {
     "name": "stdout",
     "output_type": "stream",
     "text": [
      "Found 8 monthly files:\n",
      "  - CRMLSSold202501_filled.csv\n",
      "  - CRMLSSold202502_filled.csv\n",
      "  - CRMLSSold202503_filled.csv\n",
      "  - CRMLSSold202504_filled.csv\n",
      "  - CRMLSSold202505_filled.csv\n",
      "  - CRMLSSold202506_filled.csv\n",
      "  - CRMLSSold202507_filled.csv\n",
      "  - CRMLSSold202508_filled.csv\n"
     ]
    }
   ],
   "source": [
    "# Find all filled monthly CSV files (CRMLSSold*_filled.csv)\n",
    "csv_files = sorted(RAW_DATA_DIR.glob('CRMLSSold*_filled.csv'))\n",
    "\n",
    "print(f\"Found {len(csv_files)} monthly files:\")\n",
    "for f in csv_files:\n",
    "    print(f\"  - {f.name}\")\n",
    "\n",
    "if len(csv_files) == 0:\n",
    "    raise FileNotFoundError(f\"No filled CSV files found in {RAW_DATA_DIR}\")"
   ]
  },
  {
   "cell_type": "code",
   "execution_count": 4,
   "id": "9ddf7aec",
   "metadata": {
    "execution": {
     "iopub.execute_input": "2025-10-24T03:40:26.337231Z",
     "iopub.status.busy": "2025-10-24T03:40:26.337031Z",
     "iopub.status.idle": "2025-10-24T03:40:28.272644Z",
     "shell.execute_reply": "2025-10-24T03:40:28.271770Z"
    }
   },
   "outputs": [
    {
     "name": "stdout",
     "output_type": "stream",
     "text": [
      "Loading all monthly files...\n",
      "  Loaded CRMLSSold202501_filled.csv: 18,738 rows\n",
      "  Loaded CRMLSSold202501_filled.csv: 18,738 rows\n",
      "  Loaded CRMLSSold202502_filled.csv: 18,702 rows\n",
      "  Loaded CRMLSSold202502_filled.csv: 18,702 rows\n",
      "  Loaded CRMLSSold202503_filled.csv: 21,445 rows\n",
      "  Loaded CRMLSSold202503_filled.csv: 21,445 rows\n",
      "  Loaded CRMLSSold202504_filled.csv: 23,262 rows\n",
      "  Loaded CRMLSSold202504_filled.csv: 23,262 rows\n",
      "  Loaded CRMLSSold202505_filled.csv: 23,154 rows\n",
      "  Loaded CRMLSSold202505_filled.csv: 23,154 rows\n",
      "  Loaded CRMLSSold202506_filled.csv: 22,883 rows\n",
      "  Loaded CRMLSSold202506_filled.csv: 22,883 rows\n",
      "  Loaded CRMLSSold202507_filled.csv: 23,646 rows\n",
      "  Loaded CRMLSSold202507_filled.csv: 23,646 rows\n",
      "  Loaded CRMLSSold202508_filled.csv: 22,972 rows\n",
      "\n",
      "Total combined: 174,802 rows, 81 columns\n",
      "  Loaded CRMLSSold202508_filled.csv: 22,972 rows\n",
      "\n",
      "Total combined: 174,802 rows, 81 columns\n"
     ]
    }
   ],
   "source": [
    "# Load and concatenate all monthly files\n",
    "print(\"Loading all monthly files...\")\n",
    "dfs = []\n",
    "\n",
    "for csv_file in csv_files:\n",
    "    df = pd.read_csv(csv_file, low_memory=False)\n",
    "    df['_source_file'] = csv_file.name\n",
    "    dfs.append(df)\n",
    "    print(f\"  Loaded {csv_file.name}: {len(df):,} rows\")\n",
    "\n",
    "df_all = pd.concat(dfs, ignore_index=True)\n",
    "print(f\"\\nTotal combined: {len(df_all):,} rows, {len(df_all.columns)} columns\")"
   ]
  },
  {
   "cell_type": "code",
   "execution_count": 5,
   "id": "00837d3c",
   "metadata": {
    "execution": {
     "iopub.execute_input": "2025-10-24T03:40:28.274283Z",
     "iopub.status.busy": "2025-10-24T03:40:28.274087Z",
     "iopub.status.idle": "2025-10-24T03:40:28.780197Z",
     "shell.execute_reply": "2025-10-24T03:40:28.779274Z"
    }
   },
   "outputs": [
    {
     "name": "stdout",
     "output_type": "stream",
     "text": [
      "Training data (months 1-7): 151,830 rows\n",
      "Test data (month 8 - August): 22,972 rows\n",
      "Test set proportion: 13.1%\n"
     ]
    }
   ],
   "source": [
    "# Separate August 2025 (month 8) for testing\n",
    "august_mask = df_all['_source_file'] == 'CRMLSSold202508_filled.csv'\n",
    "\n",
    "df_test = df_all[august_mask].copy()\n",
    "df_train = df_all[~august_mask].copy()\n",
    "\n",
    "print(f\"Training data (months 1-7): {len(df_train):,} rows\")\n",
    "print(f\"Test data (month 8 - August): {len(df_test):,} rows\")\n",
    "print(f\"Test set proportion: {len(df_test)/len(df_all)*100:.1f}%\")"
   ]
  },
  {
   "cell_type": "code",
   "execution_count": 6,
   "id": "4d53c19a",
   "metadata": {
    "execution": {
     "iopub.execute_input": "2025-10-24T03:40:28.783067Z",
     "iopub.status.busy": "2025-10-24T03:40:28.782684Z",
     "iopub.status.idle": "2025-10-24T03:40:28.789450Z",
     "shell.execute_reply": "2025-10-24T03:40:28.788427Z"
    }
   },
   "outputs": [
    {
     "name": "stdout",
     "output_type": "stream",
     "text": [
      "Dataset shape: (174802, 81)\n",
      "\n",
      "Column count by type:\n",
      "object     49\n",
      "float64    27\n",
      "int64       3\n",
      "bool        2\n",
      "Name: count, dtype: int64\n"
     ]
    }
   ],
   "source": [
    "# Basic info\n",
    "print(f\"Dataset shape: {df_all.shape}\")\n",
    "print(f\"\\nColumn count by type:\")\n",
    "print(df_all.dtypes.value_counts())"
   ]
  },
  {
   "cell_type": "code",
   "execution_count": 7,
   "id": "061d0446",
   "metadata": {
    "execution": {
     "iopub.execute_input": "2025-10-24T03:40:28.791297Z",
     "iopub.status.busy": "2025-10-24T03:40:28.791022Z",
     "iopub.status.idle": "2025-10-24T03:40:28.812532Z",
     "shell.execute_reply": "2025-10-24T03:40:28.811654Z"
    }
   },
   "outputs": [
    {
     "name": "stdout",
     "output_type": "stream",
     "text": [
      "Target column: ClosePrice\n",
      "\n",
      "Target statistics:\n",
      "count    1.748000e+05\n",
      "mean     8.728161e+05\n",
      "std      5.630124e+06\n",
      "min      0.000000e+00\n",
      "25%      1.999800e+04\n",
      "50%      6.176160e+05\n",
      "75%      1.057000e+06\n",
      "max      9.700000e+08\n",
      "Name: ClosePrice, dtype: float64\n"
     ]
    }
   ],
   "source": [
    "# Find target column\n",
    "target_candidates = ['ClosePrice', 'Close Price', 'Close_Price', 'CLOSEPRICE']\n",
    "target = next((c for c in target_candidates if c in df_all.columns), None)\n",
    "\n",
    "if target is None:\n",
    "    raise ValueError(\"Target column 'ClosePrice' not found!\")\n",
    "\n",
    "print(f\"Target column: {target}\")\n",
    "print(f\"\\nTarget statistics:\")\n",
    "print(df_all[target].describe())"
   ]
  },
  {
   "cell_type": "code",
   "execution_count": 8,
   "id": "02726893",
   "metadata": {
    "execution": {
     "iopub.execute_input": "2025-10-24T03:40:28.814612Z",
     "iopub.status.busy": "2025-10-24T03:40:28.814401Z",
     "iopub.status.idle": "2025-10-24T03:40:29.068462Z",
     "shell.execute_reply": "2025-10-24T03:40:29.067472Z"
    }
   },
   "outputs": [
    {
     "name": "stdout",
     "output_type": "stream",
     "text": [
      "Columns with missing values: 67\n",
      "\n",
      "Top 15 columns with most missing values:\n",
      "FireplacesTotal                 100.000000\n",
      "ElementarySchoolDistrict        100.000000\n",
      "CoveredSpaces                   100.000000\n",
      "AboveGradeFinishedArea          100.000000\n",
      "MiddleOrJuniorSchoolDistrict    100.000000\n",
      "TaxYear                          99.939360\n",
      "WaterfrontYN                     99.938216\n",
      "BusinessType                     99.750003\n",
      "TaxAnnualAmount                  99.645885\n",
      "BelowGradeFinishedArea           99.534330\n",
      "BasementYN                       98.358142\n",
      "BuilderName                      96.204277\n",
      "LotSizeDimensions                94.585874\n",
      "CoBuyerAgentFirstName            91.901694\n",
      "ElementarySchool                 89.153442\n",
      "dtype: float64\n"
     ]
    }
   ],
   "source": [
    "# Missing values analysis\n",
    "missing_pct = (df_all.isnull().sum() / len(df_all) * 100).sort_values(ascending=False)\n",
    "missing_pct = missing_pct[missing_pct > 0]\n",
    "\n",
    "print(f\"Columns with missing values: {len(missing_pct)}\")\n",
    "print(f\"\\nTop 15 columns with most missing values:\")\n",
    "print(missing_pct.head(15))"
   ]
  },
  {
   "cell_type": "code",
   "execution_count": 9,
   "id": "96b8bbce",
   "metadata": {
    "execution": {
     "iopub.execute_input": "2025-10-24T03:40:29.070592Z",
     "iopub.status.busy": "2025-10-24T03:40:29.070208Z",
     "iopub.status.idle": "2025-10-24T03:40:29.099485Z",
     "shell.execute_reply": "2025-10-24T03:40:29.098693Z"
    }
   },
   "outputs": [
    {
     "name": "stdout",
     "output_type": "stream",
     "text": [
      "Valid target values: 174,800 (100.0%)\n",
      "\n",
      "Target percentiles:\n",
      "   1th percentile: $1,729\n",
      "   5th percentile: $2,650\n",
      "  10th percentile: $3,400\n",
      "  25th percentile: $19,998\n",
      "  50th percentile: $617,616\n",
      "  75th percentile: $1,057,000\n",
      "  90th percentile: $1,785,000\n",
      "  95th percentile: $2,500,000\n",
      "  99th percentile: $5,100,000\n"
     ]
    }
   ],
   "source": [
    "# Target distribution\n",
    "target_clean = pd.to_numeric(df_all[target], errors='coerce').dropna()\n",
    "\n",
    "print(f\"Valid target values: {len(target_clean):,} ({len(target_clean)/len(df_all)*100:.1f}%)\")\n",
    "print(f\"\\nTarget percentiles:\")\n",
    "for p in [1, 5, 10, 25, 50, 75, 90, 95, 99]:\n",
    "    val = target_clean.quantile(p/100)\n",
    "    print(f\"  {p:2d}th percentile: ${val:,.0f}\")"
   ]
  },
  {
   "cell_type": "code",
   "execution_count": 10,
   "id": "647810ff",
   "metadata": {
    "execution": {
     "iopub.execute_input": "2025-10-24T03:40:29.101190Z",
     "iopub.status.busy": "2025-10-24T03:40:29.101001Z",
     "iopub.status.idle": "2025-10-24T03:40:29.399498Z",
     "shell.execute_reply": "2025-10-24T03:40:29.398734Z"
    }
   },
   "outputs": [
    {
     "data": {
      "image/png": "[encoded data removed]",
      "text/plain": [
       "<Figure size 1500x500 with 2 Axes>"
      ]
     },
     "metadata": {},
     "output_type": "display_data"
    },
    {
     "name": "stdout",
     "output_type": "stream",
     "text": [
      "\n",
      "Visualization complete! Ready for preprocessing.\n"
     ]
    }
   ],
   "source": [
    "# Visualize target distribution\n",
    "fig, axes = plt.subplots(1, 2, figsize=(15, 5))\n",
    "\n",
    "axes[0].hist(target_clean, bins=50, edgecolor='black')\n",
    "axes[0].set_xlabel('Close Price ($)')\n",
    "axes[0].set_ylabel('Frequency')\n",
    "axes[0].set_title('Close Price Distribution')\n",
    "axes[0].axvline(target_clean.median(), color='red', linestyle='--', label=f'Median: ${target_clean.median():,.0f}')\n",
    "axes[0].legend()\n",
    "\n",
    "# Filter out zeros before log transform\n",
    "target_positive = target_clean[target_clean > 0]\n",
    "axes[1].hist(np.log10(target_positive), bins=50, edgecolor='black')\n",
    "axes[1].set_xlabel('log10(Close Price)')\n",
    "axes[1].set_ylabel('Frequency')\n",
    "axes[1].set_title('Close Price Distribution (Log Scale)')\n",
    "\n",
    "plt.tight_layout()\n",
    "plt.show()\n",
    "print(f\"\\nVisualization complete! Ready for preprocessing.\")"
   ]
  },
  {
   "cell_type": "code",
   "execution_count": 11,
   "id": "aecac7ce",
   "metadata": {
    "execution": {
     "iopub.execute_input": "2025-10-24T03:40:29.401237Z",
     "iopub.status.busy": "2025-10-24T03:40:29.401027Z",
     "iopub.status.idle": "2025-10-24T03:40:33.755976Z",
     "shell.execute_reply": "2025-10-24T03:40:33.755115Z"
    }
   },
   "outputs": [
    {
     "name": "stdout",
     "output_type": "stream",
     "text": [
      "Saved training data: c:\\Users\\lpnhu\\Downloads\\home-price-prediction\\filled_data\\train_raw.csv\n",
      "Saved test data: c:\\Users\\lpnhu\\Downloads\\home-price-prediction\\filled_data\\test_raw.csv\n",
      "\n",
      "✅ Ready for preprocessing in notebook 02!\n"
     ]
    }
   ],
   "source": [
    "# Save train and test sets\n",
    "train_path = RAW_DATA_DIR / 'train_raw.csv'\n",
    "test_path = RAW_DATA_DIR / 'test_raw.csv'\n",
    "\n",
    "df_train.to_csv(train_path, index=False)\n",
    "df_test.to_csv(test_path, index=False)\n",
    "\n",
    "print(f\"Saved training data: {train_path}\")\n",
    "print(f\"Saved test data: {test_path}\")\n",
    "print(f\"\\n✅ Ready for preprocessing in notebook 02!\")"
   ]
  }
 ],
 "metadata": {
  "kernelspec": {
   "display_name": ".venv",
   "language": "python",
   "name": "python3"
  },
  "language_info": {
   "codemirror_mode": {
    "name": "ipython",
    "version": 3
   },
   "file_extension": ".py",
   "mimetype": "text/x-python",
   "name": "python",
   "nbconvert_exporter": "python",
   "pygments_lexer": "ipython3",
   "version": "3.13.9"
  }
 },
 "nbformat": 4,
 "nbformat_minor": 5
}
